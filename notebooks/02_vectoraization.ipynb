{
 "cells": [
  {
   "cell_type": "markdown",
   "id": "7f56e63b",
   "metadata": {},
   "source": [
    "ベクトル化を行う、試したいのは以下（上から優先度高）\n",
    "- word2vec(1から学習)\n",
    "- word2vec(学習済み)\n",
    "- BoW\n",
    "- BERT"
   ]
  },
  {
   "cell_type": "code",
   "execution_count": 48,
   "id": "b76e170e",
   "metadata": {},
   "outputs": [],
   "source": [
    "import pandas as pd\n",
    "import MeCab\n",
    "import mojimoji\n",
    "import re\n",
    "import os\n",
    "from collections import Counter\n",
    "from gensim.models import word2vec\n"
   ]
  },
  {
   "cell_type": "code",
   "execution_count": 28,
   "id": "77f7fdae",
   "metadata": {},
   "outputs": [],
   "source": [
    "DATA_DIR = '../data/livedoor-homme'"
   ]
  },
  {
   "cell_type": "code",
   "execution_count": 29,
   "id": "4868ac32",
   "metadata": {},
   "outputs": [],
   "source": [
    "df = pd.read_csv('../output/preprocessed_data.csv')\n",
    "df['text'] = df['text'].fillna('')"
   ]
  },
  {
   "cell_type": "code",
   "execution_count": 30,
   "id": "e9aade92",
   "metadata": {},
   "outputs": [
    {
     "data": {
      "text/html": [
       "<div>\n",
       "<style scoped>\n",
       "    .dataframe tbody tr th:only-of-type {\n",
       "        vertical-align: middle;\n",
       "    }\n",
       "\n",
       "    .dataframe tbody tr th {\n",
       "        vertical-align: top;\n",
       "    }\n",
       "\n",
       "    .dataframe thead th {\n",
       "        text-align: right;\n",
       "    }\n",
       "</style>\n",
       "<table border=\"1\" class=\"dataframe\">\n",
       "  <thead>\n",
       "    <tr style=\"text-align: right;\">\n",
       "      <th></th>\n",
       "      <th>url</th>\n",
       "      <th>datetime</th>\n",
       "      <th>title</th>\n",
       "      <th>body</th>\n",
       "      <th>media</th>\n",
       "      <th>text</th>\n",
       "    </tr>\n",
       "  </thead>\n",
       "  <tbody>\n",
       "    <tr>\n",
       "      <th>0</th>\n",
       "      <td>http://news.livedoor.com/article/detail/5978741/</td>\n",
       "      <td>2011-10-30T10:15:00+0900</td>\n",
       "      <td>【DVDエンター！】誘拐犯に育てられた女が目にした真実は、孤独か幸福か</td>\n",
       "      <td>2005年11月から翌2006年7月まで読売新聞にて連載された、直木賞作家・角田光代による初...</td>\n",
       "      <td>movie-enter</td>\n",
       "      <td>年月 年月 読売新聞 連載 する れる 直木賞 作家 角田光代 初 長編 * 八日目の蝉 年...</td>\n",
       "    </tr>\n",
       "    <tr>\n",
       "      <th>1</th>\n",
       "      <td>http://news.livedoor.com/article/detail/6322901/</td>\n",
       "      <td>2012-02-29T11:45:00+0900</td>\n",
       "      <td>藤原竜也、中学生とともにロケット打ち上げに成功</td>\n",
       "      <td>「アンテナを張りながら生活をしていけばいい」\\n2月28日、映画『おかえり、はやぶさ』（3月...</td>\n",
       "      <td>movie-enter</td>\n",
       "      <td>* 張る 生活 する いく いい 月日 映画 はやぶさ 月日 公開 文部科学省 * 千代田区...</td>\n",
       "    </tr>\n",
       "    <tr>\n",
       "      <th>2</th>\n",
       "      <td>http://news.livedoor.com/article/detail/6176324/</td>\n",
       "      <td>2012-01-09T14:00:00+0900</td>\n",
       "      <td>『戦火の馬』ロイヤル・プレミアにウィリアム王子＆キャサリン妃が出席</td>\n",
       "      <td>3月2日より全国ロードショーとなる、スティーブン・スピルバーグの待望の監督最新作『戦火の馬』...</td>\n",
       "      <td>movie-enter</td>\n",
       "      <td>月日 全国 * なる * * 待望 監督 最新作 戦火の馬 * 賞 有力 候補 注目 集める...</td>\n",
       "    </tr>\n",
       "    <tr>\n",
       "      <th>3</th>\n",
       "      <td>http://news.livedoor.com/article/detail/6573929/</td>\n",
       "      <td>2012-05-19T12:00:00+0900</td>\n",
       "      <td>香里奈、女子高生100人のガチンコ質問に回答「ラーメンも食べる」</td>\n",
       "      <td>女優の香里奈が18日、都内で行われた映画『ガール』（5月26日公開）の女子高生限定試写会にサ...</td>\n",
       "      <td>movie-enter</td>\n",
       "      <td>女優 香里奈 日 都内 行う れる 映画 * 月日 公開 女子高生 限定 試写 会 * 出席...</td>\n",
       "    </tr>\n",
       "    <tr>\n",
       "      <th>4</th>\n",
       "      <td>http://news.livedoor.com/article/detail/5914880/</td>\n",
       "      <td>2011-10-05T19:11:00+0900</td>\n",
       "      <td>ユージの前に立ちはだかったJOY「僕はAKBの高橋みなみを守る」</td>\n",
       "      <td>5日、東京・千代田区の内幸町ホールにて、映画『キャプテン・アメリカ/ザ・ファースト・アベンジ...</td>\n",
       "      <td>movie-enter</td>\n",
       "      <td>日 東京 千代田区 内幸町 * 映画 * * * * 公開 記念 する 宿命 * 対決 * ...</td>\n",
       "    </tr>\n",
       "  </tbody>\n",
       "</table>\n",
       "</div>"
      ],
      "text/plain": [
       "                                                url                  datetime  \\\n",
       "0  http://news.livedoor.com/article/detail/5978741/  2011-10-30T10:15:00+0900   \n",
       "1  http://news.livedoor.com/article/detail/6322901/  2012-02-29T11:45:00+0900   \n",
       "2  http://news.livedoor.com/article/detail/6176324/  2012-01-09T14:00:00+0900   \n",
       "3  http://news.livedoor.com/article/detail/6573929/  2012-05-19T12:00:00+0900   \n",
       "4  http://news.livedoor.com/article/detail/5914880/  2011-10-05T19:11:00+0900   \n",
       "\n",
       "                                 title  \\\n",
       "0  【DVDエンター！】誘拐犯に育てられた女が目にした真実は、孤独か幸福か   \n",
       "1              藤原竜也、中学生とともにロケット打ち上げに成功   \n",
       "2    『戦火の馬』ロイヤル・プレミアにウィリアム王子＆キャサリン妃が出席   \n",
       "3     香里奈、女子高生100人のガチンコ質問に回答「ラーメンも食べる」   \n",
       "4     ユージの前に立ちはだかったJOY「僕はAKBの高橋みなみを守る」   \n",
       "\n",
       "                                                body        media  \\\n",
       "0  2005年11月から翌2006年7月まで読売新聞にて連載された、直木賞作家・角田光代による初...  movie-enter   \n",
       "1  「アンテナを張りながら生活をしていけばいい」\\n2月28日、映画『おかえり、はやぶさ』（3月...  movie-enter   \n",
       "2  3月2日より全国ロードショーとなる、スティーブン・スピルバーグの待望の監督最新作『戦火の馬』...  movie-enter   \n",
       "3  女優の香里奈が18日、都内で行われた映画『ガール』（5月26日公開）の女子高生限定試写会にサ...  movie-enter   \n",
       "4  5日、東京・千代田区の内幸町ホールにて、映画『キャプテン・アメリカ/ザ・ファースト・アベンジ...  movie-enter   \n",
       "\n",
       "                                                text  \n",
       "0  年月 年月 読売新聞 連載 する れる 直木賞 作家 角田光代 初 長編 * 八日目の蝉 年...  \n",
       "1  * 張る 生活 する いく いい 月日 映画 はやぶさ 月日 公開 文部科学省 * 千代田区...  \n",
       "2  月日 全国 * なる * * 待望 監督 最新作 戦火の馬 * 賞 有力 候補 注目 集める...  \n",
       "3  女優 香里奈 日 都内 行う れる 映画 * 月日 公開 女子高生 限定 試写 会 * 出席...  \n",
       "4  日 東京 千代田区 内幸町 * 映画 * * * * 公開 記念 する 宿命 * 対決 * ...  "
      ]
     },
     "execution_count": 30,
     "metadata": {},
     "output_type": "execute_result"
    }
   ],
   "source": [
    "df.head()"
   ]
  },
  {
   "cell_type": "markdown",
   "id": "39bc3bc8",
   "metadata": {},
   "source": [
    "## 学習"
   ]
  },
  {
   "cell_type": "code",
   "execution_count": 57,
   "id": "e12aeef4",
   "metadata": {},
   "outputs": [],
   "source": [
    "corpus = [text.split() for text in df['text'].values.tolist()]"
   ]
  },
  {
   "cell_type": "code",
   "execution_count": 78,
   "id": "52f7dd83",
   "metadata": {},
   "outputs": [],
   "source": [
    "#model = word2vec.Word2Vec(corpus, size=100, min_count=5, window=5, iter=3)\n",
    "#model = word2vec.Word2Vec(corpus, size=100, min_count=5, window=5, iter=3)\n",
    "model = word2vec.Word2Vec(corpus, size=100, min_count=5, window=5, iter=100)"
   ]
  },
  {
   "cell_type": "code",
   "execution_count": 79,
   "id": "f992d406",
   "metadata": {},
   "outputs": [],
   "source": [
    "model.save('../output/model/livedoor_word2vec.model')"
   ]
  },
  {
   "cell_type": "markdown",
   "id": "e50e1124",
   "metadata": {},
   "source": [
    "## 結果確認"
   ]
  },
  {
   "cell_type": "code",
   "execution_count": 83,
   "id": "2b91caae",
   "metadata": {},
   "outputs": [
    {
     "name": "stdout",
     "output_type": "stream",
     "text": [
      "俳優 t 0.6607780456542969\n",
      "若手女優 t 0.5252819061279297\n",
      "岡田将生 t 0.5184017419815063\n",
      "怪演 t 0.5073220133781433\n",
      "出演 t 0.48744237422943115\n",
      "沢尻 t 0.48247331380844116\n",
      "橋本愛 t 0.4818870425224304\n",
      "寺島しのぶ t 0.46772754192352295\n",
      "檀れい t 0.46535617113113403\n",
      "龍馬伝 t 0.46438097953796387\n"
     ]
    },
    {
     "name": "stderr",
     "output_type": "stream",
     "text": [
      "<ipython-input-83-36861e8f9e4c>:3: DeprecationWarning: Call to deprecated `most_similar` (Method will be removed in 4.0.0, use self.wv.most_similar() instead).\n",
      "  results = model.most_similar(positive=\"女優\", topn=10)\n"
     ]
    }
   ],
   "source": [
    "from gensim.models import word2vec\n",
    "model   = word2vec.Word2Vec.load('../output/model/livedoor_word2vec.model')\n",
    "results = model.most_similar(positive=\"女優\", topn=10)\n",
    "for result in results:\n",
    "    print(result[0], 't', result[1])"
   ]
  },
  {
   "cell_type": "code",
   "execution_count": 81,
   "id": "a4da8017",
   "metadata": {},
   "outputs": [
    {
     "data": {
      "text/plain": [
       "18284"
      ]
     },
     "execution_count": 81,
     "metadata": {},
     "output_type": "execute_result"
    }
   ],
   "source": [
    "len(model.wv.index2word)"
   ]
  },
  {
   "cell_type": "code",
   "execution_count": null,
   "id": "d1b1c46a",
   "metadata": {},
   "outputs": [],
   "source": []
  }
 ],
 "metadata": {
  "kernelspec": {
   "display_name": "Python 3",
   "language": "python",
   "name": "python3"
  },
  "language_info": {
   "codemirror_mode": {
    "name": "ipython",
    "version": 3
   },
   "file_extension": ".py",
   "mimetype": "text/x-python",
   "name": "python",
   "nbconvert_exporter": "python",
   "pygments_lexer": "ipython3",
   "version": "3.8.5"
  }
 },
 "nbformat": 4,
 "nbformat_minor": 5
}
