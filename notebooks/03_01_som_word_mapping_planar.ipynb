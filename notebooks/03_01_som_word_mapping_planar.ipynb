{
 "cells": [
  {
   "cell_type": "code",
   "execution_count": 121,
   "id": "0621c679",
   "metadata": {},
   "outputs": [],
   "source": [
    "import pandas as pd\n",
    "import MeCab\n",
    "import mojimoji\n",
    "import re\n",
    "import os\n",
    "from collections import Counter\n",
    "from gensim.models import word2vec\n",
    "\n",
    "from somoclu import Somoclu\n",
    "\n",
    "import numpy as np\n",
    "import matplotlib.pyplot as plt\n",
    "from mpl_toolkits.mplot3d import Axes3D\n",
    "\n",
    "import seaborn as sns\n",
    "\n",
    "%matplotlib inline\n"
   ]
  },
  {
   "cell_type": "code",
   "execution_count": 9,
   "id": "9b8add07",
   "metadata": {},
   "outputs": [],
   "source": [
    "MODEL_PATH = '../output/model/livedoor_word2vec.model'\n"
   ]
  },
  {
   "cell_type": "code",
   "execution_count": 10,
   "id": "301fbe4a",
   "metadata": {},
   "outputs": [],
   "source": [
    "model   = word2vec.Word2Vec.load(MODEL_PATH)"
   ]
  },
  {
   "cell_type": "code",
   "execution_count": 18,
   "id": "e0b998fe",
   "metadata": {},
   "outputs": [
    {
     "data": {
      "text/plain": [
       "<gensim.models.keyedvectors.Vocab at 0x7fd199cf6280>"
      ]
     },
     "execution_count": 18,
     "metadata": {},
     "output_type": "execute_result"
    }
   ],
   "source": [
    "model.wv.vocab['年月']"
   ]
  },
  {
   "cell_type": "code",
   "execution_count": 59,
   "id": "539f01f2",
   "metadata": {},
   "outputs": [
    {
     "name": "stderr",
     "output_type": "stream",
     "text": [
      "<ipython-input-59-a398726ce471>:2: DeprecationWarning: Call to deprecated `syn0` (Attribute will be removed in 4.0.0, use self.vectors instead).\n",
      "  word_vectors = model.wv.syn0\n"
     ]
    }
   ],
   "source": [
    "index = model.wv.index2word\n",
    "word_vectors = model.wv.syn0\n",
    "\n",
    "data = pd.DataFrame(word_vectors)\n",
    "data.index = index"
   ]
  },
  {
   "cell_type": "markdown",
   "id": "caf28562",
   "metadata": {},
   "source": [
    "###  SOMの学習"
   ]
  },
  {
   "cell_type": "code",
   "execution_count": 96,
   "id": "bc822427",
   "metadata": {},
   "outputs": [
    {
     "name": "stdout",
     "output_type": "stream",
     "text": [
      "CPU times: user 8.97 s, sys: 166 ms, total: 9.13 s\n",
      "Wall time: 1.31 s\n"
     ]
    }
   ],
   "source": [
    "#吉岡の研究では単語マップのノードは162\n",
    "n_columns, n_rows  = 9, 18\n",
    "som = Somoclu(n_columns, n_rows, compactsupport=False)\n",
    "%time som.train(data.values)"
   ]
  },
  {
   "cell_type": "code",
   "execution_count": 150,
   "id": "16187ba5",
   "metadata": {},
   "outputs": [],
   "source": [
    "?Somoclu"
   ]
  },
  {
   "cell_type": "code",
   "execution_count": 97,
   "id": "44189ffa",
   "metadata": {},
   "outputs": [],
   "source": [
    "surface = som.get_surface_state()"
   ]
  },
  {
   "cell_type": "code",
   "execution_count": 98,
   "id": "73f85057",
   "metadata": {},
   "outputs": [
    {
     "data": {
      "text/plain": [
       "(18284, 162)"
      ]
     },
     "execution_count": 98,
     "metadata": {},
     "output_type": "execute_result"
    }
   ],
   "source": [
    "surface.shape"
   ]
  },
  {
   "cell_type": "code",
   "execution_count": 99,
   "id": "872f69ca",
   "metadata": {},
   "outputs": [
    {
     "data": {
      "text/plain": [
       "array([[ 4,  9],\n",
       "       [ 0, 15],\n",
       "       [ 0,  0],\n",
       "       ...,\n",
       "       [ 4,  9],\n",
       "       [ 1, 15],\n",
       "       [ 6, 11]])"
      ]
     },
     "execution_count": 99,
     "metadata": {},
     "output_type": "execute_result"
    }
   ],
   "source": [
    "som.get_bmus(surface)"
   ]
  },
  {
   "cell_type": "code",
   "execution_count": 132,
   "id": "e775945c",
   "metadata": {},
   "outputs": [],
   "source": [
    "word_map_df = pd.DataFrame(som.get_bmus(surface))\n",
    "word_map_df.columns = ['col', 'row']\n",
    "word_map_df.index = index\n",
    "word_map_df = word_map_df[['row', 'col']]"
   ]
  },
  {
   "cell_type": "code",
   "execution_count": 133,
   "id": "11f04ad6",
   "metadata": {},
   "outputs": [
    {
     "data": {
      "text/html": [
       "<div>\n",
       "<style scoped>\n",
       "    .dataframe tbody tr th:only-of-type {\n",
       "        vertical-align: middle;\n",
       "    }\n",
       "\n",
       "    .dataframe tbody tr th {\n",
       "        vertical-align: top;\n",
       "    }\n",
       "\n",
       "    .dataframe thead th {\n",
       "        text-align: right;\n",
       "    }\n",
       "</style>\n",
       "<table border=\"1\" class=\"dataframe\">\n",
       "  <thead>\n",
       "    <tr style=\"text-align: right;\">\n",
       "      <th></th>\n",
       "      <th>row</th>\n",
       "      <th>col</th>\n",
       "    </tr>\n",
       "  </thead>\n",
       "  <tbody>\n",
       "    <tr>\n",
       "      <th>*</th>\n",
       "      <td>9</td>\n",
       "      <td>4</td>\n",
       "    </tr>\n",
       "    <tr>\n",
       "      <th>する</th>\n",
       "      <td>15</td>\n",
       "      <td>0</td>\n",
       "    </tr>\n",
       "    <tr>\n",
       "      <th>いる</th>\n",
       "      <td>0</td>\n",
       "      <td>0</td>\n",
       "    </tr>\n",
       "    <tr>\n",
       "      <th>れる</th>\n",
       "      <td>8</td>\n",
       "      <td>4</td>\n",
       "    </tr>\n",
       "    <tr>\n",
       "      <th>こと</th>\n",
       "      <td>1</td>\n",
       "      <td>0</td>\n",
       "    </tr>\n",
       "    <tr>\n",
       "      <th>...</th>\n",
       "      <td>...</td>\n",
       "      <td>...</td>\n",
       "    </tr>\n",
       "    <tr>\n",
       "      <th>小男</th>\n",
       "      <td>9</td>\n",
       "      <td>2</td>\n",
       "    </tr>\n",
       "    <tr>\n",
       "      <th>面下</th>\n",
       "      <td>11</td>\n",
       "      <td>2</td>\n",
       "    </tr>\n",
       "    <tr>\n",
       "      <th>お引越し</th>\n",
       "      <td>9</td>\n",
       "      <td>4</td>\n",
       "    </tr>\n",
       "    <tr>\n",
       "      <th>冠する</th>\n",
       "      <td>15</td>\n",
       "      <td>1</td>\n",
       "    </tr>\n",
       "    <tr>\n",
       "      <th>河内氏</th>\n",
       "      <td>11</td>\n",
       "      <td>6</td>\n",
       "    </tr>\n",
       "  </tbody>\n",
       "</table>\n",
       "<p>18284 rows × 2 columns</p>\n",
       "</div>"
      ],
      "text/plain": [
       "      row  col\n",
       "*       9    4\n",
       "する     15    0\n",
       "いる      0    0\n",
       "れる      8    4\n",
       "こと      1    0\n",
       "...   ...  ...\n",
       "小男      9    2\n",
       "面下     11    2\n",
       "お引越し    9    4\n",
       "冠する    15    1\n",
       "河内氏    11    6\n",
       "\n",
       "[18284 rows x 2 columns]"
      ]
     },
     "execution_count": 133,
     "metadata": {},
     "output_type": "execute_result"
    }
   ],
   "source": [
    "word_map_df"
   ]
  },
  {
   "cell_type": "code",
   "execution_count": 134,
   "id": "c124d5a0",
   "metadata": {},
   "outputs": [],
   "source": [
    "# 正方行列と X および Y のラベルの行列を渡す\n",
    "def draw_heatmap(data, row_labels, column_labels):\n",
    "    # 描画する\n",
    "    fig, ax = plt.subplots()\n",
    "    heatmap = ax.pcolor(data, cmap=plt.cm.Blues)\n",
    "\n",
    "    ax.set_xticks(np.arange(data.shape[0]) + 0.5, minor=False)\n",
    "    ax.set_yticks(np.arange(data.shape[1]) + 0.5, minor=False)\n",
    "\n",
    "    ax.invert_yaxis()\n",
    "    ax.xaxis.tick_top()\n",
    "\n",
    "    ax.set_xticklabels(row_labels, minor=False)\n",
    "    ax.set_yticklabels(column_labels, minor=False)\n",
    "    plt.show()\n",
    "    plt.savefig('image.png')\n",
    "\n",
    "    return heatmap"
   ]
  },
  {
   "cell_type": "code",
   "execution_count": 136,
   "id": "2efcb138",
   "metadata": {},
   "outputs": [
    {
     "data": {
      "text/html": [
       "<div>\n",
       "<style scoped>\n",
       "    .dataframe tbody tr th:only-of-type {\n",
       "        vertical-align: middle;\n",
       "    }\n",
       "\n",
       "    .dataframe tbody tr th {\n",
       "        vertical-align: top;\n",
       "    }\n",
       "\n",
       "    .dataframe thead th {\n",
       "        text-align: right;\n",
       "    }\n",
       "</style>\n",
       "<table border=\"1\" class=\"dataframe\">\n",
       "  <thead>\n",
       "    <tr style=\"text-align: right;\">\n",
       "      <th></th>\n",
       "      <th>row</th>\n",
       "      <th>col</th>\n",
       "    </tr>\n",
       "  </thead>\n",
       "  <tbody>\n",
       "    <tr>\n",
       "      <th>*</th>\n",
       "      <td>9</td>\n",
       "      <td>4</td>\n",
       "    </tr>\n",
       "    <tr>\n",
       "      <th>する</th>\n",
       "      <td>15</td>\n",
       "      <td>0</td>\n",
       "    </tr>\n",
       "    <tr>\n",
       "      <th>いる</th>\n",
       "      <td>0</td>\n",
       "      <td>0</td>\n",
       "    </tr>\n",
       "    <tr>\n",
       "      <th>れる</th>\n",
       "      <td>8</td>\n",
       "      <td>4</td>\n",
       "    </tr>\n",
       "    <tr>\n",
       "      <th>こと</th>\n",
       "      <td>1</td>\n",
       "      <td>0</td>\n",
       "    </tr>\n",
       "    <tr>\n",
       "      <th>...</th>\n",
       "      <td>...</td>\n",
       "      <td>...</td>\n",
       "    </tr>\n",
       "    <tr>\n",
       "      <th>小男</th>\n",
       "      <td>9</td>\n",
       "      <td>2</td>\n",
       "    </tr>\n",
       "    <tr>\n",
       "      <th>面下</th>\n",
       "      <td>11</td>\n",
       "      <td>2</td>\n",
       "    </tr>\n",
       "    <tr>\n",
       "      <th>お引越し</th>\n",
       "      <td>9</td>\n",
       "      <td>4</td>\n",
       "    </tr>\n",
       "    <tr>\n",
       "      <th>冠する</th>\n",
       "      <td>15</td>\n",
       "      <td>1</td>\n",
       "    </tr>\n",
       "    <tr>\n",
       "      <th>河内氏</th>\n",
       "      <td>11</td>\n",
       "      <td>6</td>\n",
       "    </tr>\n",
       "  </tbody>\n",
       "</table>\n",
       "<p>18284 rows × 2 columns</p>\n",
       "</div>"
      ],
      "text/plain": [
       "      row  col\n",
       "*       9    4\n",
       "する     15    0\n",
       "いる      0    0\n",
       "れる      8    4\n",
       "こと      1    0\n",
       "...   ...  ...\n",
       "小男      9    2\n",
       "面下     11    2\n",
       "お引越し    9    4\n",
       "冠する    15    1\n",
       "河内氏    11    6\n",
       "\n",
       "[18284 rows x 2 columns]"
      ]
     },
     "execution_count": 136,
     "metadata": {},
     "output_type": "execute_result"
    }
   ],
   "source": [
    "word_map_df"
   ]
  },
  {
   "cell_type": "code",
   "execution_count": 137,
   "id": "02e17916",
   "metadata": {},
   "outputs": [],
   "source": [
    "heat_map_data = np.zeros((n_rows, n_columns)).astype(int)\n",
    "for row, col in zip(word_map_df['row'], word_map_df['col']):\n",
    "    heat_map_data[row, col] += 1"
   ]
  },
  {
   "cell_type": "code",
   "execution_count": 138,
   "id": "7ed58faf",
   "metadata": {},
   "outputs": [
    {
     "data": {
      "text/plain": [
       "<AxesSubplot:>"
      ]
     },
     "execution_count": 138,
     "metadata": {},
     "output_type": "execute_result"
    },
    {
     "data": {
      "image/png": "[encoded data removed]",
      "text/plain": [
       "<Figure size 864x648 with 2 Axes>"
      ]
     },
     "metadata": {
      "needs_background": "light"
     },
     "output_type": "display_data"
    }
   ],
   "source": [
    "plt.figure(figsize=(12, 9))\n",
    "sns.heatmap(heat_map_data, annot=True, fmt='g', cmap='jet')"
   ]
  },
  {
   "cell_type": "markdown",
   "id": "b6d5329d",
   "metadata": {},
   "source": [
    "###  中に入っている単語を確認"
   ]
  },
  {
   "cell_type": "code",
   "execution_count": 151,
   "id": "f367d382",
   "metadata": {},
   "outputs": [
    {
     "data": {
      "text/html": [
       "<div>\n",
       "<style scoped>\n",
       "    .dataframe tbody tr th:only-of-type {\n",
       "        vertical-align: middle;\n",
       "    }\n",
       "\n",
       "    .dataframe tbody tr th {\n",
       "        vertical-align: top;\n",
       "    }\n",
       "\n",
       "    .dataframe thead th {\n",
       "        text-align: right;\n",
       "    }\n",
       "</style>\n",
       "<table border=\"1\" class=\"dataframe\">\n",
       "  <thead>\n",
       "    <tr style=\"text-align: right;\">\n",
       "      <th></th>\n",
       "      <th>row</th>\n",
       "      <th>col</th>\n",
       "    </tr>\n",
       "  </thead>\n",
       "  <tbody>\n",
       "    <tr>\n",
       "      <th>担当</th>\n",
       "      <td>11</td>\n",
       "      <td>0</td>\n",
       "    </tr>\n",
       "    <tr>\n",
       "      <th>才</th>\n",
       "      <td>11</td>\n",
       "      <td>0</td>\n",
       "    </tr>\n",
       "    <tr>\n",
       "      <th>加藤</th>\n",
       "      <td>11</td>\n",
       "      <td>0</td>\n",
       "    </tr>\n",
       "    <tr>\n",
       "      <th>前田</th>\n",
       "      <td>11</td>\n",
       "      <td>0</td>\n",
       "    </tr>\n",
       "    <tr>\n",
       "      <th>伊藤</th>\n",
       "      <td>11</td>\n",
       "      <td>0</td>\n",
       "    </tr>\n",
       "    <tr>\n",
       "      <th>...</th>\n",
       "      <td>...</td>\n",
       "      <td>...</td>\n",
       "    </tr>\n",
       "    <tr>\n",
       "      <th>新浪</th>\n",
       "      <td>11</td>\n",
       "      <td>0</td>\n",
       "    </tr>\n",
       "    <tr>\n",
       "      <th>よしみ</th>\n",
       "      <td>11</td>\n",
       "      <td>0</td>\n",
       "    </tr>\n",
       "    <tr>\n",
       "      <th>諏訪原</th>\n",
       "      <td>11</td>\n",
       "      <td>0</td>\n",
       "    </tr>\n",
       "    <tr>\n",
       "      <th>小椋</th>\n",
       "      <td>11</td>\n",
       "      <td>0</td>\n",
       "    </tr>\n",
       "    <tr>\n",
       "      <th>佐竹</th>\n",
       "      <td>11</td>\n",
       "      <td>0</td>\n",
       "    </tr>\n",
       "  </tbody>\n",
       "</table>\n",
       "<p>196 rows × 2 columns</p>\n",
       "</div>"
      ],
      "text/plain": [
       "     row  col\n",
       "担当    11    0\n",
       "才     11    0\n",
       "加藤    11    0\n",
       "前田    11    0\n",
       "伊藤    11    0\n",
       "..   ...  ...\n",
       "新浪    11    0\n",
       "よしみ   11    0\n",
       "諏訪原   11    0\n",
       "小椋    11    0\n",
       "佐竹    11    0\n",
       "\n",
       "[196 rows x 2 columns]"
      ]
     },
     "execution_count": 151,
     "metadata": {},
     "output_type": "execute_result"
    }
   ],
   "source": [
    "row = 11 \n",
    "col = 0\n",
    "word_map_df[(word_map_df['row']==row)&(word_map_df['col']==col)]"
   ]
  },
  {
   "cell_type": "code",
   "execution_count": 163,
   "id": "3dec3726",
   "metadata": {},
   "outputs": [],
   "source": [
    "word_map_df.to_csv('../output/word_map.csv', index=True)"
   ]
  },
  {
   "cell_type": "code",
   "execution_count": 164,
   "id": "a3ac225a",
   "metadata": {},
   "outputs": [
    {
     "data": {
      "text/html": [
       "<div>\n",
       "<style scoped>\n",
       "    .dataframe tbody tr th:only-of-type {\n",
       "        vertical-align: middle;\n",
       "    }\n",
       "\n",
       "    .dataframe tbody tr th {\n",
       "        vertical-align: top;\n",
       "    }\n",
       "\n",
       "    .dataframe thead th {\n",
       "        text-align: right;\n",
       "    }\n",
       "</style>\n",
       "<table border=\"1\" class=\"dataframe\">\n",
       "  <thead>\n",
       "    <tr style=\"text-align: right;\">\n",
       "      <th></th>\n",
       "      <th>row</th>\n",
       "      <th>col</th>\n",
       "    </tr>\n",
       "  </thead>\n",
       "  <tbody>\n",
       "    <tr>\n",
       "      <th>*</th>\n",
       "      <td>9</td>\n",
       "      <td>4</td>\n",
       "    </tr>\n",
       "    <tr>\n",
       "      <th>する</th>\n",
       "      <td>15</td>\n",
       "      <td>0</td>\n",
       "    </tr>\n",
       "    <tr>\n",
       "      <th>いる</th>\n",
       "      <td>0</td>\n",
       "      <td>0</td>\n",
       "    </tr>\n",
       "    <tr>\n",
       "      <th>れる</th>\n",
       "      <td>8</td>\n",
       "      <td>4</td>\n",
       "    </tr>\n",
       "    <tr>\n",
       "      <th>こと</th>\n",
       "      <td>1</td>\n",
       "      <td>0</td>\n",
       "    </tr>\n",
       "    <tr>\n",
       "      <th>...</th>\n",
       "      <td>...</td>\n",
       "      <td>...</td>\n",
       "    </tr>\n",
       "    <tr>\n",
       "      <th>小男</th>\n",
       "      <td>9</td>\n",
       "      <td>2</td>\n",
       "    </tr>\n",
       "    <tr>\n",
       "      <th>面下</th>\n",
       "      <td>11</td>\n",
       "      <td>2</td>\n",
       "    </tr>\n",
       "    <tr>\n",
       "      <th>お引越し</th>\n",
       "      <td>9</td>\n",
       "      <td>4</td>\n",
       "    </tr>\n",
       "    <tr>\n",
       "      <th>冠する</th>\n",
       "      <td>15</td>\n",
       "      <td>1</td>\n",
       "    </tr>\n",
       "    <tr>\n",
       "      <th>河内氏</th>\n",
       "      <td>11</td>\n",
       "      <td>6</td>\n",
       "    </tr>\n",
       "  </tbody>\n",
       "</table>\n",
       "<p>18284 rows × 2 columns</p>\n",
       "</div>"
      ],
      "text/plain": [
       "      row  col\n",
       "*       9    4\n",
       "する     15    0\n",
       "いる      0    0\n",
       "れる      8    4\n",
       "こと      1    0\n",
       "...   ...  ...\n",
       "小男      9    2\n",
       "面下     11    2\n",
       "お引越し    9    4\n",
       "冠する    15    1\n",
       "河内氏    11    6\n",
       "\n",
       "[18284 rows x 2 columns]"
      ]
     },
     "execution_count": 164,
     "metadata": {},
     "output_type": "execute_result"
    }
   ],
   "source": [
    "pd.read_csv('../output/word_map.csv', index_col=0)"
   ]
  },
  {
   "cell_type": "code",
   "execution_count": null,
   "id": "f1614999",
   "metadata": {},
   "outputs": [],
   "source": []
  }
 ],
 "metadata": {
  "kernelspec": {
   "display_name": "Python 3",
   "language": "python",
   "name": "python3"
  },
  "language_info": {
   "codemirror_mode": {
    "name": "ipython",
    "version": 3
   },
   "file_extension": ".py",
   "mimetype": "text/x-python",
   "name": "python",
   "nbconvert_exporter": "python",
   "pygments_lexer": "ipython3",
   "version": "3.8.5"
  }
 },
 "nbformat": 4,
 "nbformat_minor": 5
}
